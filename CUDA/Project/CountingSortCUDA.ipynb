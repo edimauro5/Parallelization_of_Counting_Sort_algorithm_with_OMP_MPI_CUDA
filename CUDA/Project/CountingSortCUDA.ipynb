{
 "cells": [
  {
   "cell_type": "markdown",
   "metadata": {},
   "source": [
    "### Obtain the GPU"
   ]
  },
  {
   "cell_type": "markdown",
   "metadata": {},
   "source": [
    "***ATTENTION***: before continuing, in the menu at the top of the page click on `Edit > Notebook settings` and make sure that *Hardware accelerator* is set on GPU"
   ]
  },
  {
   "cell_type": "code",
   "execution_count": null,
   "metadata": {},
   "outputs": [],
   "source": [
    "!nvcc --version\n",
    "!nvidia-smi"
   ]
  },
  {
   "cell_type": "markdown",
   "metadata": {},
   "source": [
    "***ATTENTION***: you must be sure that the GPU you are going to use is a *Tesla K80*\n",
    "\n",
    "> **if not**: in the menu at the top of the page click on `Runtime > Factory reset runtime` and restart the code above (it could be necessary to do it several times)"
   ]
  },
  {
   "cell_type": "markdown",
   "metadata": {},
   "source": [
    "### Mount the drive"
   ]
  },
  {
   "cell_type": "markdown",
   "metadata": {},
   "source": [
    "***ATTENTION***: extract all files of \"Project_HPC_CUDA.zip\" in a folder called `ContestCUDA` in your Google Drive and execute all codes below"
   ]
  },
  {
   "cell_type": "code",
   "execution_count": null,
   "metadata": {},
   "outputs": [],
   "source": [
    "from google.colab import drive\n",
    "drive.mount('/content/drive')"
   ]
  },
  {
   "cell_type": "code",
   "execution_count": null,
   "metadata": {},
   "outputs": [],
   "source": [
    "%cd /content/drive/MyDrive/ContestCUDA/"
   ]
  },
  {
   "cell_type": "markdown",
   "metadata": {},
   "source": [
    "### Start the GPU"
   ]
  },
  {
   "cell_type": "code",
   "execution_count": null,
   "metadata": {},
   "outputs": [],
   "source": [
    "!pip install git+git://github.com/andreinechaev/nvcc4jupyter.git\n",
    "%load_ext nvcc_plugin"
   ]
  },
  {
   "cell_type": "code",
   "execution_count": null,
   "metadata": {},
   "outputs": [],
   "source": [
    "!apt-get --purge remove cuda nvidia* libnvidia-*\n",
    "!dpkg -l | grep cuda- | awk '{print $2}' | xargs -n1 dpkg --purge\n",
    "!apt-get remove cuda-*\n",
    "!apt autoremove\n",
    "!apt-get update"
   ]
  },
  {
   "cell_type": "code",
   "execution_count": null,
   "metadata": {},
   "outputs": [],
   "source": [
    "!wget https://developer.nvidia.com/compute/cuda/9.2/Prod/local_installers/cuda-repo-ubuntu1710-9-2-local_9.2.88-1_amd64 -O cuda-repo-ubuntu1710-9-2-local_9.2.88-1_amd64.deb\n",
    "!dpkg -i cuda-repo-ubuntu1710-9-2-local_9.2.88-1_amd64.deb\n",
    "!apt-key add /var/cuda-repo-9-2-local/7fa2af80.pub\n",
    "!apt-get update\n",
    "!apt-get install cuda-9.2"
   ]
  },
  {
   "cell_type": "code",
   "execution_count": null,
   "metadata": {},
   "outputs": [],
   "source": [
    "!nvcc --version"
   ]
  },
  {
   "cell_type": "markdown",
   "metadata": {},
   "source": [
    "***ATTENTION***: you must be sure that the version is *V9.2.88*\n",
    "\n",
    "> **if not**: something went wrong and everything has to be restarded"
   ]
  },
  {
   "cell_type": "markdown",
   "metadata": {},
   "source": [
    "### Get all the info (you can skip this section)"
   ]
  },
  {
   "cell_type": "markdown",
   "metadata": {},
   "source": [
    "#####       CPU info"
   ]
  },
  {
   "cell_type": "code",
   "execution_count": null,
   "metadata": {},
   "outputs": [],
   "source": [
    "!cat /proc/cpuinfo"
   ]
  },
  {
   "cell_type": "markdown",
   "metadata": {},
   "source": [
    "##### MEM info"
   ]
  },
  {
   "cell_type": "code",
   "execution_count": null,
   "metadata": {},
   "outputs": [],
   "source": [
    "!cat /proc/meminfo"
   ]
  },
  {
   "cell_type": "markdown",
   "metadata": {},
   "source": [
    "##### DSK info"
   ]
  },
  {
   "cell_type": "code",
   "execution_count": null,
   "metadata": {},
   "outputs": [],
   "source": [
    "!df -h"
   ]
  },
  {
   "cell_type": "markdown",
   "metadata": {},
   "source": [
    "##### GPU info"
   ]
  },
  {
   "cell_type": "markdown",
   "metadata": {},
   "source": [
    "- Essential info"
   ]
  },
  {
   "cell_type": "code",
   "execution_count": null,
   "metadata": {},
   "outputs": [],
   "source": [
    "%%cu\n",
    "\n",
    "#include <stdio.h>\n",
    "#include <stdlib.h>\n",
    "\n",
    "void deviceQuery()\n",
    "{\n",
    "  cudaDeviceProp prop;\n",
    "  int nDevices=0, i;\n",
    "  cudaError_t ierr;\n",
    "\n",
    "  ierr = cudaGetDeviceCount(&nDevices);\n",
    "  if (ierr != cudaSuccess) { printf(\"Sync error: %s\\n\", cudaGetErrorString(ierr)); }\n",
    "\n",
    "\n",
    "\n",
    "  for( i = 0; i < nDevices; ++i )\n",
    "  {\n",
    "     ierr = cudaGetDeviceProperties(&prop, i);\n",
    "     printf(\"Device number: %d\\n\", i);\n",
    "     printf(\"  Device name: %s\\n\", prop.name);\n",
    "     printf(\"  Compute capability: %d.%d\\n\\n\", prop.major, prop.minor);\n",
    "     \n",
    "     printf(\"  Clock Rate: %d kHz\\n\", prop.clockRate);\n",
    "     printf(\"  Total SMs: %d \\n\", prop.multiProcessorCount);\n",
    "     printf(\"  Shared Memory Per SM: %lu bytes\\n\", prop.sharedMemPerMultiprocessor);\n",
    "     printf(\"  Registers Per SM: %d 32-bit\\n\", prop.regsPerMultiprocessor);\n",
    "     printf(\"  Max threads per SM: %d\\n\", prop.maxThreadsPerMultiProcessor);\n",
    "     printf(\"  L2 Cache Size: %d bytes\\n\", prop.l2CacheSize);\n",
    "     printf(\"  Total Global Memory: %lu bytes\\n\", prop.totalGlobalMem);\n",
    "     printf(\"  Memory Clock Rate: %d kHz\\n\\n\", prop.memoryClockRate);\n",
    "     \n",
    "     \n",
    "     printf(\"  Max threads per block: %d\\n\", prop.maxThreadsPerBlock);\n",
    "     printf(\"  Max threads in X-dimension of block: %d\\n\", prop.maxThreadsDim[0]);\n",
    "     printf(\"  Max threads in Y-dimension of block: %d\\n\", prop.maxThreadsDim[1]);\n",
    "     printf(\"  Max threads in Z-dimension of block: %d\\n\\n\", prop.maxThreadsDim[2]);\n",
    "\n",
    "     printf(\"  Max blocks in X-dimension of grid: %d\\n\", prop.maxGridSize[0]);\n",
    "     printf(\"  Max blocks in Y-dimension of grid: %d\\n\", prop.maxGridSize[1]);\n",
    "     printf(\"  Max blocks in Z-dimension of grid: %d\\n\\n\", prop.maxGridSize[2]);     \n",
    "     \n",
    "     printf(\"  Shared Memory Per Block: %lu bytes\\n\", prop.sharedMemPerBlock);\n",
    "     printf(\"  Registers Per Block: %d 32-bit\\n\", prop.regsPerBlock);\n",
    "     printf(\"  Warp size: %d\\n\\n\", prop.warpSize);\n",
    "\n",
    "  }\n",
    "}\n",
    "\n",
    "int main() {\n",
    "    deviceQuery();\n",
    "}"
   ]
  },
  {
   "cell_type": "markdown",
   "metadata": {},
   "source": [
    "- Complete info"
   ]
  },
  {
   "cell_type": "code",
   "execution_count": null,
   "metadata": {},
   "outputs": [],
   "source": [
    "%cd /usr/local\n",
    "%cd cuda-9.2/\n",
    "%cd samples\n",
    "%cd 1_Utilities\n",
    "%cd deviceQuery\n",
    "!make\n",
    "!./deviceQuery\n",
    "%cd /content/drive/MyDrive/ContestCUDA/"
   ]
  },
  {
   "cell_type": "markdown",
   "metadata": {},
   "source": [
    "- Further info"
   ]
  },
  {
   "cell_type": "code",
   "execution_count": null,
   "metadata": {},
   "outputs": [],
   "source": [
    "n = [1000000, 10000000, 100000000]\n",
    "max = [100, 1000]\n",
    "block = [128]\n",
    "!nvcc -o ./executable/execg ./src/global.cu\n",
    "!nvcc -o ./executable/execs ./src/shared.cu\n",
    "!nvcc -o ./executable/exect ./src/texture.cu\n",
    "for length in n:\n",
    "  for maximum in max:\n",
    "    for blockSize in block:\n",
    "      !nvprof --print-gpu-trace ./executable/execg $length $maximum $blockSize\n",
    "      print(\"\\n\\n\")\n",
    "      !nvprof --print-gpu-trace ./executable/execs $length $maximum $blockSize\n",
    "      print(\"\\n\\n\")\n",
    "      !nvprof --print-gpu-trace ./executable/exect $length $maximum $blockSize\n",
    "      print(\"\\n\\n\")"
   ]
  },
  {
   "cell_type": "markdown",
   "metadata": {},
   "source": [
    "##### BANDWIDTH info"
   ]
  },
  {
   "cell_type": "code",
   "execution_count": null,
   "metadata": {},
   "outputs": [],
   "source": [
    "%cd /usr/local/cuda/samples\n",
    "%cd 1_Utilities/bandwidthTest/\n",
    "!make\n",
    "!./bandwidthTest --mode-range --start=1000 --end=1000000 --increment=99000\n",
    "%cd /content/drive/MyDrive/ContestCUDA/"
   ]
  },
  {
   "cell_type": "markdown",
   "metadata": {},
   "source": [
    "##### Number of executed integer operations"
   ]
  },
  {
   "cell_type": "code",
   "execution_count": null,
   "metadata": {},
   "outputs": [],
   "source": [
    "n = [1000000, 10000000, 100000000]\n",
    "max = [100, 1000]\n",
    "block = [128]\n",
    "!nvcc -o ./executable/execg ./src/global.cu\n",
    "!nvcc -o ./executable/execs ./src/shared.cu\n",
    "!nvcc -o ./executable/exect ./src/texture.cu\n",
    "for length in n:\n",
    "  for maximum in max:\n",
    "    for blockSize in block:\n",
    "      !nvprof --metrics inst_integer ./executable/execg $length $maximum $blockSize\n",
    "      print(\"\\n\\n\")\n",
    "      !nvprof --metrics inst_integer ./executable/execs $length $maximum $blockSize\n",
    "      print(\"\\n\\n\")\n",
    "      !nvprof --metrics inst_integer ./executable/exect $length $maximum $blockSize\n",
    "      print(\"\\n\\n\")"
   ]
  },
  {
   "cell_type": "markdown",
   "metadata": {},
   "source": [
    "### Start the measures"
   ]
  },
  {
   "cell_type": "markdown",
   "metadata": {},
   "source": [
    "***ATTENTION***: it takes a lot of time. This is the reason why our measures are already included, you can see them in `measure` folder"
   ]
  },
  {
   "cell_type": "code",
   "execution_count": null,
   "metadata": {},
   "outputs": [],
   "source": [
    "import datetime\n",
    "import pytz\n",
    "TIMEFORMAT='%Y-%m-%d.%H:%M:%S'\n",
    "TIMESTAMP=datetime.datetime.now().astimezone(pytz.timezone(\"Europe/Rome\")).strftime(TIMEFORMAT)\n",
    "n = [1000000, 10000000, 100000000]\n",
    "max = [100, 1000]\n",
    "block = [32, 64, 128, 256, 512, 1024]\n",
    "!nvcc -o ./executable/execg ./src/global.cu\n",
    "!nvcc -o ./executable/execs ./src/shared.cu\n",
    "!nvcc -o ./executable/exect ./src/texture.cu\n",
    "for length in n:\n",
    "  for maximum in max:\n",
    "    for blockSize in block:\n",
    "      OUT_FILE_g=\"./measure/\"+TIMESTAMP+\"/SIZE-\"+str(length)+\"-RANGE-\"+str(maximum)+\"/global_measure_\"+str(length)+\"_\"+str(maximum)+\".csv\"\n",
    "      OUT_FILE_s=\"./measure/\"+TIMESTAMP+\"/SIZE-\"+str(length)+\"-RANGE-\"+str(maximum)+\"/shared_measure_\"+str(length)+\"_\"+str(maximum)+\".csv\"\n",
    "      OUT_FILE_t=\"./measure/\"+TIMESTAMP+\"/SIZE-\"+str(length)+\"-RANGE-\"+str(maximum)+\"/texture_measure_\"+str(length)+\"_\"+str(maximum)+\".csv\"\n",
    "      %mkdir -p $(dirname $OUT_FILE_g)\n",
    "      %mkdir -p $(dirname $OUT_FILE_s)\n",
    "      %mkdir -p $(dirname $OUT_FILE_t)\n",
    "      !echo \"blockSize;gridSize;elapsedInit;elapsedSort\" > $OUT_FILE_g\n",
    "      !echo \"blockSize;gridSize;elapsedInit;elapsedSort\" > $OUT_FILE_s\n",
    "      !echo \"blockSize;gridSize;elapsedInit;elapsedSort\" > $OUT_FILE_t\n",
    "      for _ in range(50):\n",
    "        !./executable/execg $length $maximum $blockSize >> $OUT_FILE_g\n",
    "        !./executable/execs $length $maximum $blockSize >> $OUT_FILE_s\n",
    "        !./executable/exect $length $maximum $blockSize >> $OUT_FILE_t"
   ]
  }
 ],
 "metadata": {
  "language_info": {
   "name": "plaintext"
  },
  "orig_nbformat": 4
 },
 "nbformat": 4,
 "nbformat_minor": 2
}
